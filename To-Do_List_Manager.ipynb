{
 "cells": [
  {
   "cell_type": "code",
   "execution_count": 2,
   "id": "33a149c6-d38a-4364-afbf-a613e2983cb4",
   "metadata": {},
   "outputs": [],
   "source": [
    "def add_task(task):\n",
    "    with open(\"todo_list.txt\", \"a\") as file:  # 'a' mode appends to the file\n",
    "        file.write(f\"{task},False\\n\")\n",
    "    print(f\"Task '{task}' added successfully.\")"
   ]
  },
  {
   "cell_type": "code",
   "execution_count": 4,
   "id": "ef62d70b-a027-40a0-962b-deffe778c9e1",
   "metadata": {},
   "outputs": [],
   "source": [
    "def view_tasks():\n",
    "    try:\n",
    "        with open(\"todo_list.txt\", \"r\") as file:\n",
    "            tasks = file.readlines()\n",
    "\n",
    "        if tasks:\n",
    "            print(\"To-Do List:\")\n",
    "            for i, task_line in enumerate(tasks, 1):\n",
    "                task, completed = task_line.strip().split(',')\n",
    "                status = \"Completed\" if completed == \"True\" else \"Not Completed\"\n",
    "                print(f\"{i}. Task: {task}, Status: {status}\")\n",
    "        else:\n",
    "            print(\"Your to-do list is empty.\")\n",
    "    except FileNotFoundError:\n",
    "        print(\"To-do list not found. You can start adding tasks.\")"
   ]
  },
  {
   "cell_type": "code",
   "execution_count": 6,
   "id": "3124e582-edae-4301-ab0e-b695ac8dc90e",
   "metadata": {},
   "outputs": [],
   "source": [
    "def mark_task_completed(task_number):\n",
    "    try:\n",
    "        with open(\"todo_list.txt\", \"r\") as file:\n",
    "            tasks = file.readlines()\n",
    "\n",
    "        if 0 < task_number <= len(tasks):\n",
    "            task, _ = tasks[task_number - 1].strip().split(',')\n",
    "            tasks[task_number - 1] = f\"{task},True\\n\"\n",
    "            \n",
    "            with open(\"todo_list.txt\", \"w\") as file:\n",
    "                file.writelines(tasks)\n",
    "\n",
    "            print(f\"Task {task_number} marked as completed.\")\n",
    "        else:\n",
    "            print(\"Invalid task number.\")\n",
    "    except FileNotFoundError:\n",
    "        print(\"To-do list not found.\")"
   ]
  },
  {
   "cell_type": "code",
   "execution_count": 8,
   "id": "cd71b9dc-4b8d-4159-ad00-640643b61956",
   "metadata": {},
   "outputs": [
    {
     "name": "stdout",
     "output_type": "stream",
     "text": [
      "\n",
      "To-Do List Manager Menu:\n",
      "1. Add Task\n",
      "2. View Tasks\n",
      "3. Mark Task as Completed\n",
      "4. Exit\n"
     ]
    },
    {
     "name": "stdin",
     "output_type": "stream",
     "text": [
      "Enter your choice (1-4):  1\n",
      "Enter the task:  Wash dishes\n"
     ]
    },
    {
     "name": "stdout",
     "output_type": "stream",
     "text": [
      "Task 'Wash dishes' added successfully.\n",
      "\n",
      "To-Do List Manager Menu:\n",
      "1. Add Task\n",
      "2. View Tasks\n",
      "3. Mark Task as Completed\n",
      "4. Exit\n"
     ]
    },
    {
     "name": "stdin",
     "output_type": "stream",
     "text": [
      "Enter your choice (1-4):  3\n"
     ]
    },
    {
     "name": "stdout",
     "output_type": "stream",
     "text": [
      "To-Do List:\n",
      "1. Task: Wash dishes, Status: Not Completed\n"
     ]
    },
    {
     "name": "stdin",
     "output_type": "stream",
     "text": [
      "Enter the task number to mark as completed:  1\n"
     ]
    },
    {
     "name": "stdout",
     "output_type": "stream",
     "text": [
      "Task 1 marked as completed.\n",
      "\n",
      "To-Do List Manager Menu:\n",
      "1. Add Task\n",
      "2. View Tasks\n",
      "3. Mark Task as Completed\n",
      "4. Exit\n"
     ]
    },
    {
     "name": "stdin",
     "output_type": "stream",
     "text": [
      "Enter your choice (1-4):  2\n"
     ]
    },
    {
     "name": "stdout",
     "output_type": "stream",
     "text": [
      "To-Do List:\n",
      "1. Task: Wash dishes, Status: Completed\n",
      "\n",
      "To-Do List Manager Menu:\n",
      "1. Add Task\n",
      "2. View Tasks\n",
      "3. Mark Task as Completed\n",
      "4. Exit\n"
     ]
    },
    {
     "name": "stdin",
     "output_type": "stream",
     "text": [
      "Enter your choice (1-4):  4\n"
     ]
    },
    {
     "name": "stdout",
     "output_type": "stream",
     "text": [
      "Exiting To-Do List Manager.\n"
     ]
    }
   ],
   "source": [
    "while True:\n",
    "    print(\"\\nTo-Do List Manager Menu:\")\n",
    "    print(\"1. Add Task\")\n",
    "    print(\"2. View Tasks\")\n",
    "    print(\"3. Mark Task as Completed\")\n",
    "    print(\"4. Exit\")\n",
    "\n",
    "    choice = input(\"Enter your choice (1-4): \")\n",
    "\n",
    "    if choice == \"1\":\n",
    "        task = input(\"Enter the task: \")\n",
    "        add_task(task)\n",
    "\n",
    "    elif choice == \"2\":\n",
    "        view_tasks()\n",
    "\n",
    "    elif choice == \"3\":\n",
    "        view_tasks()\n",
    "        task_number = int(input(\"Enter the task number to mark as completed: \"))\n",
    "        mark_task_completed(task_number)\n",
    "\n",
    "    elif choice == \"4\":\n",
    "        print(\"Exiting To-Do List Manager.\")\n",
    "        break\n",
    "\n",
    "    else:\n",
    "        print(\"Invalid choice. Please try again.\")"
   ]
  },
  {
   "cell_type": "code",
   "execution_count": null,
   "id": "4febb726-5f92-4672-b750-b5e76155423c",
   "metadata": {},
   "outputs": [],
   "source": []
  }
 ],
 "metadata": {
  "kernelspec": {
   "display_name": "Python 3 (ipykernel)",
   "language": "python",
   "name": "python3"
  },
  "language_info": {
   "codemirror_mode": {
    "name": "ipython",
    "version": 3
   },
   "file_extension": ".py",
   "mimetype": "text/x-python",
   "name": "python",
   "nbconvert_exporter": "python",
   "pygments_lexer": "ipython3",
   "version": "3.11.7"
  }
 },
 "nbformat": 4,
 "nbformat_minor": 5
}
